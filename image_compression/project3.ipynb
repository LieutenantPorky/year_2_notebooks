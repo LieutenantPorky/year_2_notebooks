{
 "cells": [
  {
   "cell_type": "markdown",
   "metadata": {
    "button": false,
    "collapsed": true,
    "deletable": true,
    "new_sheet": false,
    "run_control": {
     "read_only": false
    }
   },
   "source": [
    "# Mini Project 3 : Image Compression\n",
    "\n",
    "How many times have we faced this issue? We love clicking images with our smartphone cameras and saving random photos off the web. And then one day – no space! Image compression helps deal with that headache.\n",
    "\n",
    "In this mini-project, we investigage how linear algebra can be used to achieve efficient storage strategies, in particular in the context of image compression.\n",
    "\n",
    "We aim here at using SVD, to minimize the size of an image in bytes to an acceptable level of quality. \n",
    "This means that you are able to store more images in the same disk space as compared to before.\n",
    "\n",
    "Image compression takes advantage of the fact that only a few of the singular values obtained after SVD are large. You can trim the three matrices based on the first few singular values and obtain a compressed approximation of the original image. Some of the compressed images are nearly indistinguishable from the original by the human eye.\n",
    "\n",
    "\n",
    "\n"
   ]
  },
  {
   "cell_type": "markdown",
   "metadata": {
    "button": false,
    "deletable": true,
    "new_sheet": false,
    "run_control": {
     "read_only": false
    }
   },
   "source": [
    "### Conversion from RGB to greyscale\n",
    "    \n",
    "    \n",
    " Although compression of colour images is similar to the compression of a greyscale image, we will use in this notebook\n",
    " black and white pictures only. To facilitate the import of colour pictures to your notebook, we provide hereafter a function  that converts pictures in Red/Green/Blue format to greyscale.   \n",
    "      \n",
    "    "
   ]
  },
  {
   "cell_type": "code",
   "execution_count": 21,
   "metadata": {
    "button": false,
    "collapsed": true,
    "deletable": true,
    "new_sheet": false,
    "run_control": {
     "read_only": false
    }
   },
   "outputs": [],
   "source": [
    "def rgb2gray(rgb):\n",
    "    return np.dot(rgb[...,:3], [0.2989, 0.5870, 0.1140])\n"
   ]
  },
  {
   "cell_type": "markdown",
   "metadata": {
    "button": false,
    "deletable": true,
    "new_sheet": false,
    "run_control": {
     "read_only": false
    }
   },
   "source": [
    "### Importing pictures to your Notebook\n",
    "\n",
    "We will use here the \"image\" module, available in matplotlib : ``import matplotlib.image as mpimg ``\n",
    "\n",
    "\n",
    "To import a picture, use the ``imread`` command:\n",
    "\n",
    "img=mpimg.imread('filename.png') \n",
    "\n",
    "and make sure that the file is located in the same directory as you Jupyter Notebook.\n",
    "\n",
    "This command stores in the variable ``img`` a colour map (picture). To convert to\n",
    "a black and white image, use the function ``rgb2gray`` defined above:\n",
    "\n",
    "`` bw = rgb2gray(img) ``  \n",
    "\n",
    "Where ``bw`` is now a matrix, whose matrix elements represents a pixel with an intensity (0=black, 1=white).\n",
    "\n",
    "To display within your Notebook the matrix, use the ``imshow`` command:\n",
    "\n",
    "``plt.imshow(bw, cmap=plt.get_cmap('gray'), vmin=0, vmax=1)``\n",
    "\n",
    "The matrix ``bw`` can be manipulated with linear algebra operation as any other matrix. \n",
    "\n",
    "\n",
    "       \n",
    "    \n",
    "    \n",
    "    "
   ]
  },
  {
   "cell_type": "markdown",
   "metadata": {
    "button": false,
    "deletable": true,
    "new_sheet": false,
    "run_control": {
     "read_only": false
    }
   },
   "source": [
    "### Question 1 : SVD decomposition\n",
    " Load and display the figures \"tiger.png\" and \"beach.png\". After they are displayed in your Python Notebook,\n",
    "    show the dimensions of the two matrices with the command :  ``numpy.matrix.shape(A)`` . For each matrix, apply the SVD decomposition, and plot in a graph the eigenvalues as function of their index (1,..,N). \n",
    "  \n",
    "\n",
    "\n",
    "\n",
    "\n",
    "\n",
    "\n",
    "\n",
    "\n"
   ]
  },
  {
   "cell_type": "code",
   "execution_count": null,
   "metadata": {
    "button": false,
    "collapsed": true,
    "deletable": true,
    "new_sheet": false,
    "run_control": {
     "read_only": false
    }
   },
   "outputs": [],
   "source": [
    "\n",
    "\n",
    "\n",
    "\n",
    "\n",
    "\n",
    "\n",
    "\n",
    "\n",
    "\n",
    "\n",
    "\n",
    "\n",
    "\n",
    "\n",
    "\n",
    "\n",
    "\n"
   ]
  },
  {
   "cell_type": "markdown",
   "metadata": {
    "button": false,
    "deletable": true,
    "new_sheet": false,
    "run_control": {
     "read_only": false
    }
   },
   "source": [
    "### Question 2 : Image compression, the \"beach\" picture\n",
    "    \n",
    "   \n",
    "  Apply different cutoff in the SVD decomposition, by only keeping the largest eigenvalues in the SVD decomposition. Typically, if the decomposition reads:\n",
    "  \n",
    "  $$ A = U \\Sigma V^T $$, \n",
    "  \n",
    "  Where $A$ is the original matrix, we keep the L largest eigenvalues of $\\Sigma$, and consider that the remaining ones are naught. \n",
    "  \n",
    "  We suggest in the following steps to consider the following number of remaining components:\n",
    "\n",
    "620, 500, 400, 300, 200, 100 .\n",
    "\n",
    "For each component, recalculate the picture matrix, and display your result. \n",
    "\n",
    "    "
   ]
  },
  {
   "cell_type": "markdown",
   "metadata": {
    "button": false,
    "deletable": true,
    "new_sheet": false,
    "run_control": {
     "read_only": false
    }
   },
   "source": [
    "### Question 3 : Image compression, the \"tiger\" picture\n",
    "\n",
    "\n",
    "Extend what you have done in \"Question 2\" to the \"tiger\" picture.\n",
    "\n",
    "\n",
    "\n",
    "\n",
    "\n"
   ]
  },
  {
   "cell_type": "code",
   "execution_count": null,
   "metadata": {
    "button": false,
    "collapsed": true,
    "deletable": true,
    "new_sheet": false,
    "run_control": {
     "read_only": false
    }
   },
   "outputs": [],
   "source": [
    "\n",
    "\n",
    "\n",
    "\n",
    "\n",
    "\n",
    "\n",
    "\n",
    "\n",
    "\n",
    "\n",
    "\n",
    "\n"
   ]
  },
  {
   "cell_type": "markdown",
   "metadata": {
    "button": false,
    "deletable": true,
    "new_sheet": false,
    "run_control": {
     "read_only": false
    }
   },
   "source": [
    "## Question 4 : The mystery guest\n",
    "\n",
    "\n",
    "We have today a mystery guest, identify who is hidden in the picture below. We have typically added noise\n",
    "to a picture. For this, load the file \"guest.png\", following the same steps as in Question 2 and Question 3. \n",
    "However, this time the picture has been \"damaged\", and you'll have to use SVD to filter the noise. \n",
    "\n",
    "Use your own choice of cutoff on the $\\Sigma$ matrix. Compare different number of components and try to identify our\n",
    "\"special guest\". Choose the optimal number of components, such that the noise is reduced, but such that you can \n",
    "remain part of the information. \n",
    "\n",
    "Plot the SVD eigenvalues for the noisy picture. Discuss how you could identify the optimal number of components from this\n",
    "graph, such that you retain information, but discard the noise. \n",
    "\n",
    "\n",
    "\n"
   ]
  },
  {
   "cell_type": "code",
   "execution_count": null,
   "metadata": {
    "collapsed": true
   },
   "outputs": [],
   "source": [
    "\n",
    "\n",
    "\n",
    "\n",
    "\n",
    "\n",
    "\n",
    "\n",
    "\n",
    "\n",
    "\n",
    "\n",
    "\n",
    "\n",
    "\n",
    "\n",
    "\n",
    "\n",
    "\n"
   ]
  },
  {
   "cell_type": "markdown",
   "metadata": {
    "button": false,
    "deletable": true,
    "new_sheet": false,
    "run_control": {
     "read_only": false
    }
   },
   "source": [
    "## Question 5 : The code\n",
    "\n",
    "\n",
    "In this exercice, we try to decypher a written message. Load the image called \"code.png\",\n",
    "and repeat the same step as in Question 4. Here, try to identify the hidden code in the picture.\n",
    "\n",
    "\n",
    "\n",
    "\n",
    "\n",
    "\n"
   ]
  },
  {
   "cell_type": "code",
   "execution_count": null,
   "metadata": {
    "button": false,
    "collapsed": true,
    "deletable": true,
    "new_sheet": false,
    "run_control": {
     "read_only": false
    }
   },
   "outputs": [],
   "source": [
    "\n",
    "\n",
    "\n",
    "\n",
    "\n",
    "\n",
    "\n",
    "\n",
    "\n",
    "\n",
    "\n",
    "\n",
    "\n",
    "\n",
    "\n",
    "\n",
    "\n"
   ]
  },
  {
   "cell_type": "markdown",
   "metadata": {
    "button": false,
    "deletable": true,
    "new_sheet": false,
    "run_control": {
     "read_only": false
    }
   },
   "source": [
    "## Open question: \n",
    "\n",
    "- Imagine that you are given a security video footage, where you see people coming in and out of the video frame. You would like to remove the still background, such that people moving in the frame can be more easily identified. Suggest how you could extend the SVD decomposition to achieve such a task (do not implement it, but discuss in general terms what would be your approach).\n",
    "    \n",
    "\n",
    "    \n",
    "    \n",
    "    \n",
    "    \n",
    "    "
   ]
  },
  {
   "cell_type": "markdown",
   "metadata": {
    "button": false,
    "deletable": true,
    "new_sheet": false,
    "run_control": {
     "read_only": false
    }
   },
   "source": [
    "\n",
    "Answer: ......\n",
    "\n",
    "\n",
    "\n",
    "\n",
    "\n",
    "\n",
    "\n"
   ]
  }
 ],
 "metadata": {
  "kernelspec": {
   "display_name": "Python 3",
   "language": "python",
   "name": "python3"
  },
  "language_info": {
   "codemirror_mode": {
    "name": "ipython",
    "version": 3
   },
   "file_extension": ".py",
   "mimetype": "text/x-python",
   "name": "python",
   "nbconvert_exporter": "python",
   "pygments_lexer": "ipython3",
   "version": "3.5.0"
  }
 },
 "nbformat": 4,
 "nbformat_minor": 0
}
