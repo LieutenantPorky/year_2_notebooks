{
 "cells": [
  {
   "cell_type": "markdown",
   "metadata": {
    "button": false,
    "deletable": true,
    "new_sheet": false,
    "run_control": {
     "read_only": false
    }
   },
   "source": [
    "# Pendulum\n",
    "\n",
    "Welcome to the Jupyter Notebook of Lecture 4. We will here apply the method outlined in the lecture to solve a second order differential equation by using a finite difference method. \n",
    "\n",
    "\n",
    "\n",
    "\n"
   ]
  },
  {
   "cell_type": "markdown",
   "metadata": {
    "button": false,
    "deletable": true,
    "new_sheet": false,
    "run_control": {
     "read_only": false
    }
   },
   "source": [
    "A swinging pendulum is merely a system of forces that forms a second-order, ordinary differential equation when using the small-angle approximation. We start here by neglecting the effects of friction (and forcing), such that we have a basic pendulum purely under the force of gravity. \n",
    "\n",
    "Splitting the second-order equations into two, first-order equations, we derived the equations of motion for a swinging pendulum as:\n",
    "\n",
    "$\\frac{d \\theta}{dt}  =  \\omega $ \n",
    "\n",
    "$\\frac{d \\omega}{dt}  = -\\frac{g}{l} sin( \\theta ) $ \n",
    "\n",
    "where $\\theta$\n",
    " is the angle the pendulum has rotated in radians (its position), $\\omega$\n",
    " is the rotation rate in rad sec (its angular velocity), $g$\n",
    " is the gravitational acceleration in m sec, and $l$ \n",
    " is the length of the pendulum in meters. \n",
    " \n",
    "Employing the Taylor's method (or also called forward Euler's method),\n",
    "we derive in the lecture a simple discretization approach to decouple\n",
    "the second order equation, and propagate (from a known initial condition)\n",
    "a numerical approximation of the solution:\n",
    "\n",
    "$\\theta_{n+1} = \\theta_n + \\Delta t ( \\frac{d \\theta_n}{dt} ) $\n",
    "\n",
    "$\\omega_{n+1} = \\omega_n + \\Delta t ( \\frac{d \\omega_n}{dt} ) $\n",
    "\n",
    "\n",
    "\n",
    "\n",
    "\n",
    "\n",
    "\n"
   ]
  },
  {
   "cell_type": "markdown",
   "metadata": {
    "button": false,
    "deletable": true,
    "new_sheet": false,
    "run_control": {
     "read_only": false
    }
   },
   "source": [
    "Question: find the derivatives $\\frac{d \\theta_n}{dt}$ and $\\frac{d \\omega_n}{dt}$ for the pendulum "
   ]
  },
  {
   "cell_type": "code",
   "execution_count": null,
   "metadata": {
    "button": false,
    "collapsed": true,
    "deletable": true,
    "new_sheet": false,
    "run_control": {
     "read_only": false
    }
   },
   "outputs": [],
   "source": []
  },
  {
   "cell_type": "markdown",
   "metadata": {
    "button": false,
    "deletable": true,
    "new_sheet": false,
    "run_control": {
     "read_only": false
    }
   },
   "source": [
    "Recall that the Taylor's method will require some care with periodic functions, such as the pendulum oscillations, as numerical noise will accumulate with the time evolution. This requires a small timestep. \n",
    "\n",
    "We will also consider in this notebook a semi-implicit algorithm, obtained by a simple modification of the method (the Cromer method):\n",
    "\n",
    "$\\omega_{n+1} = \\omega_n + \\Delta t ( \\frac{d \\omega_n}{dt} ) $\n",
    "\n",
    "\n",
    "$\\theta_{n+1} = \\theta_n + \\Delta t ( \\frac{d \\theta_{n+1}}{dt} ) $\n",
    "\n",
    "\n",
    "\n"
   ]
  },
  {
   "cell_type": "markdown",
   "metadata": {
    "button": false,
    "deletable": true,
    "new_sheet": false,
    "run_control": {
     "read_only": false
    }
   },
   "source": [
    "Question: Explain the difference between the Cromer's and Taylor's approaches.\n",
    "\n"
   ]
  },
  {
   "cell_type": "markdown",
   "metadata": {
    "button": false,
    "deletable": true,
    "new_sheet": false,
    "run_control": {
     "read_only": false
    }
   },
   "source": [
    "### Exercice 1: The pendulum motion\n",
    "\n",
    "In this exercise, you will use the this Jupyter Notebook to experiment with various model parameters and settings. You should understand the code and how it works. Notice that it is organized into distinct sections: preamble, parameter declaration, and model code. This provides a good coding practice, as to streamline your program. \n",
    "\n",
    "Here we define the code for our model in the lecture. This is primarily composed of a single function, which we will call pendulum. We must:\n",
    "\n",
    "1) Load any modules required\n",
    "\n",
    "2) Define any fixed Parameters that would not change.\n",
    "\n",
    "3) Define a list of arguments that can be specified by the user. We must set default values for these parameters.\n",
    "\n",
    "4) Define a list of initial conditions for our model. We must also specify these in the calling arguments so that the user can change them. We must set default values for these parameters.\n",
    "\n",
    "5) Write documentation for our function that describes what it does and what the arguments are.\n",
    "\n",
    "6) Create the structures that are required for our model to run\n",
    "\n",
    "7) Set the initial conditions\n",
    "\n",
    "8) Set the boundary conditions (if any)\n",
    "\n",
    "9) Integrate our model, with ideally a choice of the Taylor's approach, or the small\n",
    "modification provided by the Cromer's approach\n",
    "\n",
    "\n",
    "We start by importing the relevant modules.\n"
   ]
  },
  {
   "cell_type": "code",
   "execution_count": 1,
   "metadata": {
    "button": false,
    "collapsed": false,
    "deletable": true,
    "new_sheet": false,
    "run_control": {
     "read_only": false
    }
   },
   "outputs": [
    {
     "name": "stderr",
     "output_type": "stream",
     "text": [
      "/Applications/Pineapple.app/Contents/Frameworks/Python.framework/Versions/3.5/lib/python3.5/site-packages/IPython/kernel/__init__.py:13: ShimWarning: The `IPython.kernel` package has been deprecated. You should import from ipykernel or jupyter_client instead.\n",
      "  \"You should import from ipykernel or jupyter_client instead.\", ShimWarning)\n"
     ]
    }
   ],
   "source": [
    "%matplotlib notebook\n",
    "import matplotlib.pyplot as plt\n",
    "import numpy as np"
   ]
  },
  {
   "cell_type": "markdown",
   "metadata": {
    "button": false,
    "deletable": true,
    "new_sheet": false,
    "run_control": {
     "read_only": false
    }
   },
   "source": [
    "### Parameters\n",
    "\n",
    "The acceleration of gravity, g [m s−2]\n",
    "\n",
    "The start time of the simulation, tstart [s]\n",
    "\n",
    "The end time of the simulation, tend [s]"
   ]
  },
  {
   "cell_type": "code",
   "execution_count": 7,
   "metadata": {
    "button": false,
    "collapsed": true,
    "deletable": true,
    "new_sheet": false,
    "run_control": {
     "read_only": false
    }
   },
   "outputs": [],
   "source": [
    "g=9.81\n",
    "tstart=0\n",
    "tend=10"
   ]
  },
  {
   "cell_type": "markdown",
   "metadata": {
    "button": false,
    "deletable": true,
    "new_sheet": false,
    "run_control": {
     "read_only": false
    }
   },
   "source": [
    "### Model\n",
    "\n",
    "Implement both explicit and semi-implicit integration of a simple pendulum.\n"
   ]
  },
  {
   "cell_type": "markdown",
   "metadata": {
    "button": false,
    "deletable": true,
    "new_sheet": false,
    "run_control": {
     "read_only": false
    }
   },
   "source": [
    "Inputs: \n",
    "\n",
    "- l      : length of moment arm in m [0.5]\n",
    "- dt     : time-step of integration in s [0.05]\n",
    "- cromer : [True/False] use Taylor [False] or Cromer (True)\n",
    "- omega0 : Initial angle of pendulum in rad [0]\n",
    "- theta0 : Initial angular velocity of pendulum in rad/s [pi/6]\n"
   ]
  },
  {
   "cell_type": "markdown",
   "metadata": {
    "button": false,
    "deletable": true,
    "new_sheet": false,
    "run_control": {
     "read_only": false
    }
   },
   "source": [
    "Outputs: \n",
    "\n",
    "- times : array of times in s\n",
    "- theta : array of angles in rad\n",
    "- omega : array of angular velocities in rad/s\n",
    "\n"
   ]
  },
  {
   "cell_type": "markdown",
   "metadata": {
    "button": false,
    "deletable": true,
    "new_sheet": false,
    "run_control": {
     "read_only": false
    }
   },
   "source": [
    "### The Pendulum function\n",
    "\n",
    "We now define the Python function, with the inputs and outputs outlined above. This\n",
    "function will act as the differential equation \"solver\" for the pendulum.\n",
    "\n",
    "Note that in Python, the inputs are declared in the first line of the function \"def pendulum ( arguments ). \n",
    "\n",
    "Values specified in the function declaration act as default values. For example, in the function below, 0.5 is the default length of the pendulum's arm. \n",
    "\n",
    "Outputs are declared in the scope of the function by the \"return\" statement. \n",
    "\n"
   ]
  },
  {
   "cell_type": "code",
   "execution_count": 8,
   "metadata": {
    "button": false,
    "collapsed": false,
    "deletable": true,
    "new_sheet": false,
    "run_control": {
     "read_only": false
    }
   },
   "outputs": [],
   "source": [
    "def pendulum(l=0.5, dt=0.05, cromer=False, omega0=0, theta0=np.pi/6.0):\n",
    "\n",
    "    # Create the variables to store our results\n",
    "    times=np.arange(tstart, tend+dt, dt)  # Create the array of model times\n",
    "    Nt=len(times)                         # Number of time-steps\n",
    "    omega=np.zeros(Nt)                    # Create the array for our velocity with time\n",
    "    theta=np.zeros(Nt)                    # Create the array for our angle with time\n",
    "    truth=np.zeros(Nt)                    # Create the array for the true solution with time\n",
    "\n",
    "    # Set our initial conditions\n",
    "    omega[0]=omega0\n",
    "    theta[0]=theta0\n",
    "    truth[0]=theta0\n",
    "\n",
    "    # Loop over all of our times and integrate the model\n",
    "    for n in range(Nt-1):\n",
    "        \n",
    "        # Time-step the velocity\n",
    "        omega[n+1]=omega[n] + dt*( ..... FILL IN ...... )\n",
    "\n",
    "        \n",
    "        # Time-step the angle. If we are using 'Taylor' or 'Cromer\"\n",
    "        if cromer:\n",
    "            theta[n+1]=theta[n] + dt* ( ..... FILL IN ...... )\n",
    "        else:\n",
    "            theta[n+1]=theta[n] + dt* ( ..... FILL IN ...... )\n",
    "\n",
    "\n",
    "    return times, theta, omega"
   ]
  },
  {
   "cell_type": "markdown",
   "metadata": {
    "button": false,
    "deletable": true,
    "new_sheet": false,
    "run_control": {
     "read_only": false
    }
   },
   "source": [
    "### Solving the differential equation\n",
    "\n",
    "\n",
    "Fill in the blanks in the pendulum solver. \n",
    "\n",
    "Using the default parameters, run the model and make three plots:\n",
    "\n",
    "Time-series of $\\theta$\n",
    "\n",
    "Time-series of $\\omega$\n",
    "\n",
    "Phase-space plot of $\\theta$ versus $\\omega$\n",
    "\n",
    "\n"
   ]
  },
  {
   "cell_type": "code",
   "execution_count": null,
   "metadata": {
    "button": false,
    "collapsed": true,
    "deletable": true,
    "new_sheet": false,
    "run_control": {
     "read_only": false
    }
   },
   "outputs": [],
   "source": [
    "\n",
    "\n",
    "\n"
   ]
  },
  {
   "cell_type": "code",
   "execution_count": null,
   "metadata": {
    "button": false,
    "collapsed": true,
    "deletable": true,
    "new_sheet": false,
    "run_control": {
     "read_only": false
    }
   },
   "outputs": [],
   "source": [
    "\n",
    "\n",
    "\n"
   ]
  },
  {
   "cell_type": "code",
   "execution_count": null,
   "metadata": {
    "button": false,
    "collapsed": true,
    "deletable": true,
    "new_sheet": false,
    "run_control": {
     "read_only": false
    }
   },
   "outputs": [],
   "source": [
    "\n",
    "\n",
    "\n"
   ]
  },
  {
   "cell_type": "markdown",
   "metadata": {
    "button": false,
    "deletable": true,
    "new_sheet": false,
    "run_control": {
     "read_only": false
    }
   },
   "source": [
    "Explore the stability of the two integrators. First, use cromer=False in the parameters and execute. Plot the solutions obtained at time 100s for both methods. \n",
    "\n",
    "\n"
   ]
  },
  {
   "cell_type": "code",
   "execution_count": null,
   "metadata": {
    "button": false,
    "collapsed": true,
    "deletable": true,
    "new_sheet": false,
    "run_control": {
     "read_only": false
    }
   },
   "outputs": [],
   "source": [
    "\n",
    "\n",
    "\n"
   ]
  },
  {
   "cell_type": "markdown",
   "metadata": {
    "button": false,
    "deletable": true,
    "new_sheet": false,
    "run_control": {
     "read_only": false
    }
   },
   "source": [
    "Start from the vertical position (pendulum pointing upward). What solution do you expect? Does your function provide a realistic solution? \n",
    "\n",
    "\n"
   ]
  },
  {
   "cell_type": "code",
   "execution_count": null,
   "metadata": {
    "button": false,
    "collapsed": true,
    "deletable": true,
    "new_sheet": false,
    "run_control": {
     "read_only": false
    }
   },
   "outputs": [],
   "source": [
    "\n",
    "\n",
    "\n",
    "\n"
   ]
  },
  {
   "cell_type": "markdown",
   "metadata": {
    "button": false,
    "deletable": true,
    "new_sheet": false,
    "run_control": {
     "read_only": false
    }
   },
   "source": [
    "\n",
    "Now, modify the pendulum function to account for a friction force. Friction is generally obtained in mechanics by a force opposite to the direction of displacement, and with an amplitude proportional to the velocity. \n",
    "\n",
    "As the pendulum has an angular velocity, the friction force is along the tangent \n",
    "and proportional to $\\omega$ : \n",
    "\n",
    "\n",
    "$\\frac{d \\omega}{dt}  = -\\frac{g}{l} sin( \\theta ) - \\alpha * \\omega $ \n",
    "\n",
    "Where $\\alpha$ is the friction constant. \n",
    "\n",
    "\n",
    "\n",
    "\n",
    "\n",
    "\n"
   ]
  },
  {
   "cell_type": "markdown",
   "metadata": {
    "button": false,
    "deletable": true,
    "new_sheet": false,
    "run_control": {
     "read_only": false
    }
   },
   "source": [
    "Question: which is true,\n",
    "\n",
    "- $\\alpha>0$ \n",
    "- $\\alpha<0$"
   ]
  },
  {
   "cell_type": "markdown",
   "metadata": {
    "button": false,
    "deletable": true,
    "new_sheet": false,
    "run_control": {
     "read_only": false
    }
   },
   "source": [
    "Question: what is the friction ($\\alpha$) necessary to bring the pendulum to a complete stop within the 10s time interval? "
   ]
  },
  {
   "cell_type": "code",
   "execution_count": null,
   "metadata": {
    "button": false,
    "collapsed": true,
    "deletable": true,
    "new_sheet": false,
    "run_control": {
     "read_only": false
    }
   },
   "outputs": [],
   "source": []
  }
 ],
 "metadata": {
  "kernelspec": {
   "display_name": "Python 3",
   "language": "python",
   "name": "python3"
  },
  "language_info": {
   "codemirror_mode": {
    "name": "ipython",
    "version": 3
   },
   "file_extension": ".py",
   "mimetype": "text/x-python",
   "name": "python",
   "nbconvert_exporter": "python",
   "pygments_lexer": "ipython3",
   "version": "3.5.0"
  }
 },
 "nbformat": 4,
 "nbformat_minor": 0
}
