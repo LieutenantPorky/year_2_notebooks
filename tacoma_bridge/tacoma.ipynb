{
 "cells": [
  {
   "cell_type": "markdown",
   "metadata": {
    "button": false,
    "deletable": true,
    "new_sheet": false,
    "run_control": {
     "read_only": false
    }
   },
   "source": [
    "# Mini Project 2: The Tacoma Bridge\n",
    "\n",
    "\n",
    "On Nov. 7, 1940, photographer Leonard Coatsworth was halfway across Washington’s Tacoma Narrows Bridge when he felt it move strangely:\n",
    "\n",
    "“Just as I drove past the towers, the bridge began to sway violently from side to side. Before I realized it, the tilt became so violent that I lost control of the car. … I jammed on the brakes and got out, only to be thrown onto my face against the curb… Around me I could hear concrete cracking. … The car itself began to slide from side to side of the roadway.”\n",
    "\n",
    "\n",
    "In this notebook, you will find the guidelines to complete your mini-project 2 on the Tacoma bridge problem. \n",
    "\n",
    "As illustrated in the lecture, we solve here the time evolution of the bridge oscillations, by solving coupled differential equations. \n",
    "\n",
    "In this mini project you implement\n",
    "the Taylor's method outlined in the lecture to the Tacoma Bridge (TB).\n",
    "\n",
    "\n",
    "\n",
    "\n"
   ]
  },
  {
   "cell_type": "markdown",
   "metadata": {
    "button": false,
    "deletable": true,
    "new_sheet": false,
    "run_control": {
     "read_only": false
    }
   },
   "source": [
    "## Overview of the Mini project\n",
    "\n",
    "In this project we will :\n",
    "\n",
    "In this exercise, you will use the this Jupyter Notebook to experiment with various model parameters and settings. You should understand the code and how it works. Notice that it is organized into distinct sections: preamble, parameter declaration, and model code. This provides a good coding practice, as to streamline your program. \n",
    "\n",
    "Here we define the code for our model in the lecture. This is primarily composed of a single function, which we will call pendulum. We must:\n",
    "\n",
    "0) Load any modules required\n",
    "\n",
    "0) Define any fixed parameters that would not change\n",
    "\n",
    "0) Define a list of arguments that can be specified by the user. We must set default values for these parameters.\n",
    "\n",
    "0) Define a list of initial conditions for our model. We must also specify these in the calling arguments so that the user can change them. We must set default values for these parameters.\n",
    "\n",
    "0) Create the structures that are required for our model to run\n",
    "\n",
    "0) Set the initial conditions\n",
    "\n",
    "0) Integrate our model, with ideally a choice of the Taylor's approach, or the small\n",
    "modification provided by the Cromer's approach\n",
    "  \n",
    "\n",
    "\n",
    "### Import the Numpy and Matplotlib modules\n",
    "\n",
    "As we practiced in the past notebooks, we import here the relevant modules. \n",
    "\n",
    "\n",
    "\n",
    "\n"
   ]
  },
  {
   "cell_type": "code",
   "execution_count": 5,
   "metadata": {
    "button": false,
    "collapsed": true,
    "deletable": true,
    "new_sheet": false,
    "run_control": {
     "read_only": false
    }
   },
   "outputs": [],
   "source": [
    "\n",
    "\n",
    "\n",
    "\n",
    "\n",
    "\n",
    "\n"
   ]
  },
  {
   "cell_type": "markdown",
   "metadata": {
    "button": false,
    "deletable": true,
    "new_sheet": false,
    "run_control": {
     "read_only": false
    }
   },
   "source": [
    "## Solving the Tacoma Bridge problem\n",
    "\n",
    "We start by defining a few physical constant:\n",
    "\n",
    "The start time of the simulation, tstart [s]\n",
    "The end time of the simulation, tend [s] \n",
    "The rest of the parameters are as defined in the lecture.\n",
    "\n",
    "Note that here we use slightly modified constant values for convenience\n",
    "(the calculations are a bit faster in this regime).\n",
    "\n"
   ]
  },
  {
   "cell_type": "code",
   "execution_count": 187,
   "metadata": {
    "button": false,
    "collapsed": true,
    "deletable": true,
    "new_sheet": false,
    "run_control": {
     "read_only": false
    }
   },
   "outputs": [],
   "source": [
    "\n",
    "tstart=0\n",
    "tend=100\n",
    "\n",
    "d=0.01\n",
    "a=1\n",
    "M=2500\n",
    "K=10000\n",
    "l=6\n",
    "\n",
    "\n"
   ]
  },
  {
   "cell_type": "markdown",
   "metadata": {
    "button": false,
    "deletable": true,
    "new_sheet": false,
    "run_control": {
     "read_only": false
    }
   },
   "source": [
    "\n",
    "## Problem 1 :  Model\n",
    "\n",
    "Implement both explicit and semi-implicit integration of a simple pendulum.\n",
    "\n",
    "Modify the pendulum function to account for the additional input parameters.\n",
    "\n",
    "The modified function should now also solve both the time evolution of the vertical displacement $y(t)$ and torsion angle $\\theta(t)$.\n",
    "\n",
    "In this first attempt, we do not include any external force wind. \n",
    "\n",
    "\n",
    "\n",
    "\n",
    "\n",
    "\n"
   ]
  },
  {
   "cell_type": "code",
   "execution_count": 207,
   "metadata": {
    "button": false,
    "collapsed": false,
    "deletable": true,
    "new_sheet": false,
    "run_control": {
     "read_only": false
    }
   },
   "outputs": [],
   "source": [
    "def tacoma(dt=0.01, cromer=False, .....  ):\n",
    "\n",
    "    # Create the variables to store our results\n",
    "    times=np.arange(tstart, tend+dt, dt)  # Create the array of model times\n",
    "    Nt=len(times)                         # Number of time-steps\n",
    "    y=np.zeros(Nt)                   \n",
    "    theta=np.zeros(Nt)                   \n",
    "    z=np.zeros(Nt) \n",
    "    gamma=np.zeros(Nt) \n",
    "\n",
    "    # Set our initial conditions\n",
    "  \n",
    "\n",
    "\n",
    "    # Loop over all of our times and integrate the model\n",
    "    for n in range(Nt-1):\n",
    "        \n",
    "   \n",
    "\n",
    "\n",
    "\n",
    "\n",
    "        # Time-step the angle. If we are using 'Taylor' or 'Cromer\"\n",
    "        if cromer:\n",
    "         \n",
    "        \n",
    "        else:\n",
    "  \n",
    "\n",
    "\n",
    "\n",
    "\n",
    "    return times, theta, y"
   ]
  },
  {
   "cell_type": "markdown",
   "metadata": {
    "button": false,
    "deletable": true,
    "new_sheet": false,
    "run_control": {
     "read_only": false
    }
   },
   "source": [
    "## Problem 2 : Solving the differential equation\n",
    "\n",
    "Fill in the blanks in the tacoma solver. \n",
    "\n",
    "Using the parameters from the lecture notes, run the model and make three plots, in absence of external applied force (no wind force). \n",
    "\n",
    "Time-series of $\\theta$\n",
    "\n",
    "Time-series of $y$\n",
    "\n",
    "Start from a small original torsion angle $\\theta(t=0)=0.01$. Compare the time evolution obtained with an initial larger torsion angle $\\theta(t=0)=0.1$ and \n",
    "with no initial torsion angle $\\theta(t=0)=0.0$. Discuss the obtained behavior.\n",
    "\n",
    "To test the validity of your integrator, compare the Cromer (Euler implicit) method against the Taylor's method. Check that you obtain the same results for both methods.\n",
    "\n",
    "\n",
    "\n"
   ]
  },
  {
   "cell_type": "code",
   "execution_count": null,
   "metadata": {
    "button": false,
    "collapsed": false,
    "deletable": true,
    "new_sheet": false,
    "run_control": {
     "read_only": false
    }
   },
   "outputs": [],
   "source": [
    "\n",
    "\n",
    "\n",
    "\n",
    "\n",
    "\n",
    "\n",
    "\n",
    "\n",
    "\n"
   ]
  },
  {
   "cell_type": "markdown",
   "metadata": {
    "button": false,
    "deletable": true,
    "new_sheet": false,
    "run_control": {
     "read_only": false
    }
   },
   "source": [
    "What do you observe? \n",
    "\n",
    "Answer :  .....\n"
   ]
  },
  {
   "cell_type": "markdown",
   "metadata": {
    "button": false,
    "deletable": true,
    "new_sheet": false,
    "run_control": {
     "read_only": false
    }
   },
   "source": [
    "## Problem 3 : Wind force\n",
    "\n",
    "Modify the tacoma solver to account for the wind force.\n",
    "\n",
    "We model this force by a vertical force:\n",
    "\n",
    "$$ F(t) = A \\sin( \\omega t ) $$\n",
    "\n",
    "where $A$ is an amplitude ($A=1,2$), and $omega$ is the force' period. \n",
    "\n",
    "For $omega=3$, plot the time evolution for both $A=1$ and $A=2$. \n",
    "\n",
    "What do you obtain? \n",
    "\n",
    "Similarly, for $A=2$, perform the calculation for a slightly slower and faster wind force frequencies, e.g. $\\omega = 2, 2.5, 2.8, 3.3$, what do you observe? How do you explain the change of behavior?\n",
    "\n",
    "Comment on the respective stability of $y(t)$ and $\\theta(t)$, which dynamics\n",
    "is responsible in your simulation for the collapse of the bridge: the former, the latter, or both?\n",
    "\n",
    "\n",
    "Optional: Draw a heat map, where the color code corresponds to the torsion angle, the horizontal axis to time, and the vertical axis to $\\omega$ (between $2$ and $4$).\n",
    "\n",
    "\n"
   ]
  },
  {
   "cell_type": "code",
   "execution_count": null,
   "metadata": {
    "button": false,
    "collapsed": false,
    "deletable": true,
    "new_sheet": false,
    "run_control": {
     "read_only": false
    }
   },
   "outputs": [],
   "source": [
    "\n",
    "\n",
    "\n",
    "\n",
    "\n"
   ]
  },
  {
   "cell_type": "markdown",
   "metadata": {
    "button": false,
    "deletable": true,
    "new_sheet": false,
    "run_control": {
     "read_only": false
    }
   },
   "source": [
    "## Problem 4 : Time trajectories\n",
    "\n",
    "\n",
    "Analyse the results by plotting the time trajectories of $\\theta(t)$ as a function\n",
    "of $y(t)$ (for $A=2$ and $omega$ between $2$ and $4$). Comment on the obtained results.\n",
    "\n"
   ]
  },
  {
   "cell_type": "code",
   "execution_count": null,
   "metadata": {
    "button": false,
    "collapsed": false,
    "deletable": true,
    "new_sheet": false,
    "run_control": {
     "read_only": false
    }
   },
   "outputs": [],
   "source": [
    "\n",
    "\n",
    "\n",
    "\n",
    "\n",
    "\n",
    "\n",
    "\n",
    "\n",
    "\n"
   ]
  },
  {
   "cell_type": "markdown",
   "metadata": {
    "button": false,
    "deletable": true,
    "new_sheet": false,
    "run_control": {
     "read_only": false
    }
   },
   "source": [
    "## Open questions"
   ]
  },
  {
   "cell_type": "markdown",
   "metadata": {
    "button": false,
    "deletable": true,
    "new_sheet": false,
    "run_control": {
     "read_only": false
    }
   },
   "source": [
    "We propose here a set of open-ended questions, which will provide opportunities to expand the discussion in your report. \n",
    "\n",
    "\n",
    "0. The tacoma bridge is of course not only a section standing by itself, but a set of coupled oscillators which represents different sections of the bridge connected to the same cable. What would be your overall strategy to extend your model to the whole bridge? \n",
    "\n",
    "0. Can you think of, or find in the literature, other examples that would exhibit similar behavior (resonance or chaotic) ? \n",
    "\n",
    "0. What would your suggested strategy to avoir the occurence of resonance in this system of coupled differential equations? \n",
    "\n",
    "Share and discuss your results with others in the class !\n",
    "\n",
    " \n"
   ]
  },
  {
   "cell_type": "markdown",
   "metadata": {
    "button": false,
    "deletable": true,
    "new_sheet": false,
    "run_control": {
     "read_only": false
    }
   },
   "source": [
    "Answers : \n",
    "    \n",
    "    \n",
    "    .......\n",
    "    \n",
    "    \n",
    "    .......\n",
    "    \n",
    "    \n",
    "    ......."
   ]
  }
 ],
 "metadata": {
  "anaconda-cloud": {},
  "kernelspec": {
   "display_name": "Python 3",
   "language": "python",
   "name": "python3"
  },
  "language_info": {
   "codemirror_mode": {
    "name": "ipython",
    "version": 3
   },
   "file_extension": ".py",
   "mimetype": "text/x-python",
   "name": "python",
   "nbconvert_exporter": "python",
   "pygments_lexer": "ipython3",
   "version": "3.5.0"
  }
 },
 "nbformat": 4,
 "nbformat_minor": 1
}
